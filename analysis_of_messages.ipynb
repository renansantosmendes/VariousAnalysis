{
 "cells": [
  {
   "cell_type": "code",
   "execution_count": 111,
   "metadata": {},
   "outputs": [],
   "source": [
    "import numpy as np\n",
    "import pandas as pd\n",
    "import re\n",
    "import string\n",
    "import emoji"
   ]
  },
  {
   "cell_type": "code",
   "execution_count": 106,
   "metadata": {},
   "outputs": [],
   "source": [
    "def has_emoji(message):\n",
    "    if type(message) is str:\n",
    "        emoji_pattern = re.compile('['\n",
    "        u'\\U0001F600-\\U0001F64F'  # emoticons\n",
    "        u'\\U0001F680-\\U0001F6FF'  # transport & map symbols\n",
    "        u'\\U0001F1E0-\\U0001F1FF'  # flags (iOS)\n",
    "        ']+', flags=re.UNICODE)\n",
    "        new_message = emoji_pattern.sub(r'', message)    \n",
    "        return len(new_message) != len(message)\n",
    "    else:\n",
    "        return False\n",
    "    \n",
    "def has_whatsapp_emoji(message):\n",
    "    if type(message) == str:\n",
    "        new_message = [character for character in message if character in emoji.EMOJI_UNICODE.values()]\n",
    "        new_message = ''.join(new_message)\n",
    "        return len(new_message) != len(message)\n",
    "    else:\n",
    "        return message\n",
    "    \n",
    "def remove_punctuation(message):\n",
    "    if type(message) is str:\n",
    "        pattern = '[{}]'.format(string.punctuation)\n",
    "        new_message = re.sub(pattern, ' ', message)\n",
    "        return new_message\n",
    "    else:\n",
    "        return message\n",
    "\n",
    "def get_emoji(message):\n",
    "    if type(message) is str:\n",
    "        message = remove_punctuation(message)\n",
    "        emoji_pattern = re.compile('[a-zA-Z_0-9\\w\\U0001F300-\\U0001F5FF\\s\\s+]+', flags=re.UNICODE)\n",
    "        new_message = emoji_pattern.sub(r'', message)    \n",
    "        return remove_chars(new_message.strip().replace('.',''))\n",
    "    else:\n",
    "        return message\n",
    "\n",
    "def remove_chars(message):\n",
    "    emojis = []\n",
    "    if type(message) is str:\n",
    "        for i in message.split():\n",
    "            for j in i:\n",
    "                if j not in string.punctuation and j != ' ' and j != '_':\n",
    "                    emojis.append(j.strip())\n",
    "        return set(emojis)\n",
    "    else:\n",
    "        return message"
   ]
  },
  {
   "cell_type": "code",
   "execution_count": 3,
   "metadata": {},
   "outputs": [
    {
     "name": "stderr",
     "output_type": "stream",
     "text": [
      "/usr/local/lib/python3.4/dist-packages/IPython/core/interactiveshell.py:2785: DtypeWarning: Columns (0) have mixed types. Specify dtype option on import or set low_memory=False.\n",
      "  interactivity=interactivity, compiler=compiler, result=result)\n"
     ]
    }
   ],
   "source": [
    "data = pd.read_csv('classified_messages_db.csv',encoding = 'utf-8', sep = '|')"
   ]
  },
  {
   "cell_type": "code",
   "execution_count": 107,
   "metadata": {},
   "outputs": [
    {
     "name": "stderr",
     "output_type": "stream",
     "text": [
      "/usr/local/lib/python3.4/dist-packages/ipykernel_launcher.py:2: SettingWithCopyWarning: \n",
      "A value is trying to be set on a copy of a slice from a DataFrame.\n",
      "Try using .loc[row_indexer,col_indexer] = value instead\n",
      "\n",
      "See the caveats in the documentation: http://pandas.pydata.org/pandas-docs/stable/indexing.html#indexing-view-versus-copy\n",
      "  \n"
     ]
    }
   ],
   "source": [
    "emoji = data[data['Content'].apply(has_emoji)]\n",
    "emoji['Content'] = emoji['Content'].apply(get_emoji)"
   ]
  },
  {
   "cell_type": "code",
   "execution_count": 112,
   "metadata": {},
   "outputs": [
    {
     "data": {
      "text/html": [
       "<div>\n",
       "<style scoped>\n",
       "    .dataframe tbody tr th:only-of-type {\n",
       "        vertical-align: middle;\n",
       "    }\n",
       "\n",
       "    .dataframe tbody tr th {\n",
       "        vertical-align: top;\n",
       "    }\n",
       "\n",
       "    .dataframe thead th {\n",
       "        text-align: right;\n",
       "    }\n",
       "</style>\n",
       "<table border=\"1\" class=\"dataframe\">\n",
       "  <thead>\n",
       "    <tr style=\"text-align: right;\">\n",
       "      <th></th>\n",
       "      <th>Class</th>\n",
       "      <th>ClassifiedMessage</th>\n",
       "      <th>ClearMessage</th>\n",
       "      <th>Content</th>\n",
       "      <th>FromIdentity</th>\n",
       "      <th>Polarity</th>\n",
       "      <th>Score</th>\n",
       "      <th>SentimentAnalysisAPI</th>\n",
       "      <th>SequentialId</th>\n",
       "      <th>StorageDate</th>\n",
       "      <th>ToIdentity</th>\n",
       "    </tr>\n",
       "  </thead>\n",
       "  <tbody>\n",
       "  </tbody>\n",
       "</table>\n",
       "</div>"
      ],
      "text/plain": [
       "Empty DataFrame\n",
       "Columns: [Class, ClassifiedMessage, ClearMessage, Content, FromIdentity, Polarity, Score, SentimentAnalysisAPI, SequentialId, StorageDate, ToIdentity]\n",
       "Index: []"
      ]
     },
     "execution_count": 112,
     "metadata": {},
     "output_type": "execute_result"
    }
   ],
   "source": [
    "data[~data['Content'].apply(has_whatsapp_emoji)]"
   ]
  },
  {
   "cell_type": "code",
   "execution_count": null,
   "metadata": {},
   "outputs": [],
   "source": []
  }
 ],
 "metadata": {
  "kernelspec": {
   "display_name": "Python 3",
   "language": "python",
   "name": "python3"
  },
  "language_info": {
   "codemirror_mode": {
    "name": "ipython",
    "version": 3
   },
   "file_extension": ".py",
   "mimetype": "text/x-python",
   "name": "python",
   "nbconvert_exporter": "python",
   "pygments_lexer": "ipython3",
   "version": "3.4.3"
  }
 },
 "nbformat": 4,
 "nbformat_minor": 2
}
